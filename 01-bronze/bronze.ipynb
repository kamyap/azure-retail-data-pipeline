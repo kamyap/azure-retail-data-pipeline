{
 "cells": [
  {
   "cell_type": "code",
   "execution_count": 0,
   "metadata": {
    "application/vnd.databricks.v1+cell": {
     "cellMetadata": {
      "byteLimit": 2048000,
      "rowLimit": 10000
     },
     "inputWidgets": {},
     "nuid": "30729976-90b6-47b6-a57d-d1ba098adf35",
     "showTitle": false,
     "tableResultSettingsMap": {},
     "title": ""
    }
   },
   "outputs": [],
   "source": [
    "# Optional: setup mount if not already mounted\n",
    "try:\n",
    "    display(dbutils.fs.ls(\"/mnt/bronze\"))\n",
    "except:\n",
    "    storage_account_name = \"retaildatalake\"\n",
    "    storage_account_key  = \"<put in your account key>"\n",
    "\n",
    "    spark.conf.set(\n",
    "        f\"fs.azure.account.key.{storage_account_name}.blob.core.windows.net\",\n",
    "        storage_account_key\n",
    "    )\n",
    "\n",
    "    dbutils.fs.mount(\n",
    "        source = f\"wasbs://bronze@{storage_account_name}.blob.core.windows.net/\",\n",
    "        mount_point = \"/mnt/bronze\",\n",
    "        extra_configs = {f\"fs.azure.account.key.{storage_account_name}.blob.core.windows.net\": storage_account_key}\n",
    "    )\n",
    "\n",
    "# Widgets for automation\n",
    "dbutils.widgets.text(\"input_csv_path\", \"/mnt/bronze/Online_Retail.csv\")\n",
    "dbutils.widgets.text(\"output_path\", \"/mnt/bronze/retail_data_raw\")\n",
    "\n",
    "input_csv_path = dbutils.widgets.get(\"input_csv_path\")\n",
    "output_path = dbutils.widgets.get(\"output_path\")\n",
    "\n",
    "# Read raw CSV\n",
    "df_bronze = spark.read.csv(input_csv_path, header=True, inferSchema=True)\n",
    "display(df_bronze.limit(10))\n",
    "\n",
    "# Write Bronze parquet\n",
    "df_bronze.write.mode(\"overwrite\").parquet(output_path)\n"
   ]
  }
 ],
 "metadata": {
  "application/vnd.databricks.v1+notebook": {
   "computePreferences": null,
   "dashboards": [],
   "environmentMetadata": {
    "base_environment": "",
    "environment_version": "3"
   },
   "inputWidgetPreferences": null,
   "language": "python",
   "notebookMetadata": {
    "pythonIndentUnit": 4
   },
   "notebookName": "bronze",
   "widgets": {
    "input_csv_path": {
     "currentValue": "/mnt/bronze/Online_Retail.csv",
     "nuid": "409cb4eb-7a45-4f92-a51c-c7d71f6fc410",
     "typedWidgetInfo": {
      "autoCreated": false,
      "defaultValue": "/mnt/bronze/Online_Retail.csv",
      "label": null,
      "name": "input_csv_path",
      "options": {
       "widgetDisplayType": "Text",
       "validationRegex": null
      },
      "parameterDataType": "String"
     },
     "widgetInfo": {
      "widgetType": "text",
      "defaultValue": "/mnt/bronze/Online_Retail.csv",
      "label": null,
      "name": "input_csv_path",
      "options": {
       "widgetType": "text",
       "autoCreated": false,
       "validationRegex": null
      }
     }
    },
    "output_path": {
     "currentValue": "/mnt/bronze/retail_data_raw",
     "nuid": "c0d85f4c-b8c8-4eeb-8276-ceb077192fef",
     "typedWidgetInfo": {
      "autoCreated": false,
      "defaultValue": "/mnt/bronze/retail_data_raw",
      "label": "",
      "name": "output_path",
      "options": {
       "widgetDisplayType": "Text",
       "validationRegex": null
      },
      "parameterDataType": "String"
     },
     "widgetInfo": {
      "widgetType": "text",
      "defaultValue": "/mnt/bronze/retail_data_raw",
      "label": "",
      "name": "output_path",
      "options": {
       "widgetType": "text",
       "autoCreated": false,
       "validationRegex": null
      }
     }
    }
   }
  },
  "language_info": {
   "name": "python"
  }
 },
 "nbformat": 4,
 "nbformat_minor": 0
}