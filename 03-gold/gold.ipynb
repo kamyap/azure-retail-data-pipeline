{
 "cells": [
  {
   "cell_type": "code",
   "execution_count": 0,
   "metadata": {
    "application/vnd.databricks.v1+cell": {
     "cellMetadata": {
      "byteLimit": 2048000,
      "rowLimit": 10000
     },
     "inputWidgets": {},
     "nuid": "45cb25fd-98ad-4dec-ba23-79298f01e20b",
     "showTitle": false,
     "tableResultSettingsMap": {},
     "title": ""
    }
   },
   "outputs": [],
   "source": [
    "from pyspark.sql.functions import sum, col\n",
    "\n",
    "# ---- Config ----\n",
    "storage_account_name = \"retaildatalake\"\n",
    "storage_account_key  = \"<put in storage account kety>"   # hardcoded key\n",
    "\n",
    "# Spark config for ABFS\n",
    "spark.conf.set(\n",
    "    f\"fs.azure.account.key.{storage_account_name}.dfs.core.windows.net\",\n",
    "    storage_account_key\n",
    ")\n",
    "\n",
    "# ---- Widgets for automation ----\n",
    "dbutils.widgets.text(\"input_path\", f\"abfss://silver@{storage_account_name}.dfs.core.windows.net/retail_data_clean\")\n",
    "dbutils.widgets.text(\"output_path\", f\"abfss://gold@{storage_account_name}.dfs.core.windows.net/retail_sales_summary\")\n",
    "\n",
    "input_path = dbutils.widgets.get(\"input_path\")\n",
    "output_path = dbutils.widgets.get(\"output_path\")\n",
    "\n",
    "# ---- Read Silver parquet ----\n",
    "df_gold = spark.read.parquet(input_path)\n",
    "\n",
    "# ---- Aggregate metrics ----\n",
    "df_gold = df_gold.groupBy(\"Country\").agg(\n",
    "    sum(\"Quantity\").alias(\"Total_Quantity\"),\n",
    "    sum(col(\"Quantity\") * col(\"UnitPrice\")).alias(\"Total_Sales\")\n",
    ")\n",
    "\n",
    "display(df_gold.limit(10))\n",
    "\n",
    "# ---- Write Gold parquet ----\n",
    "df_gold.write.mode(\"overwrite\").parquet(output_path)\n"
   ]
  },
  {
   "cell_type": "code",
   "execution_count": 0,
   "metadata": {
    "application/vnd.databricks.v1+cell": {
     "cellMetadata": {},
     "inputWidgets": {},
     "nuid": "49426f5d-f1f5-4a26-a12a-1d9e7fe8468a",
     "showTitle": false,
     "tableResultSettingsMap": {},
     "title": ""
    }
   },
   "outputs": [],
   "source": []
  }
 ],
 "metadata": {
  "application/vnd.databricks.v1+notebook": {
   "computePreferences": null,
   "dashboards": [],
   "environmentMetadata": {
    "base_environment": "",
    "environment_version": "3"
   },
   "inputWidgetPreferences": null,
   "language": "python",
   "notebookMetadata": {
    "pythonIndentUnit": 4
   },
   "notebookName": "gold",
   "widgets": {
    "input_path": {
     "currentValue": "/mnt/silver/retail_data_clean",
     "nuid": "deb091d9-bc3b-4ec0-9622-3d2a6601fa1a",
     "typedWidgetInfo": {
      "autoCreated": false,
      "defaultValue": "abfss://silver@retaildatalake.dfs.core.windows.net/retail_data_clean",
      "label": null,
      "name": "input_path",
      "options": {
       "widgetDisplayType": "Text",
       "validationRegex": null
      },
      "parameterDataType": "String"
     },
     "widgetInfo": {
      "widgetType": "text",
      "defaultValue": "abfss://silver@retaildatalake.dfs.core.windows.net/retail_data_clean",
      "label": null,
      "name": "input_path",
      "options": {
       "widgetType": "text",
       "autoCreated": null,
       "validationRegex": null
      }
     }
    },
    "output_path": {
     "currentValue": "/mnt/gold/retail_sales_summary",
     "nuid": "43cdb7a6-fc8b-4991-842e-f1977b0bbe15",
     "typedWidgetInfo": {
      "autoCreated": false,
      "defaultValue": "abfss://gold@retaildatalake.dfs.core.windows.net/retail_sales_summary",
      "label": null,
      "name": "output_path",
      "options": {
       "widgetDisplayType": "Text",
       "validationRegex": null
      },
      "parameterDataType": "String"
     },
     "widgetInfo": {
      "widgetType": "text",
      "defaultValue": "abfss://gold@retaildatalake.dfs.core.windows.net/retail_sales_summary",
      "label": null,
      "name": "output_path",
      "options": {
       "widgetType": "text",
       "autoCreated": null,
       "validationRegex": null
      }
     }
    }
   }
  },
  "language_info": {
   "name": "python"
  }
 },
 "nbformat": 4,
 "nbformat_minor": 0
}