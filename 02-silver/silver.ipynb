{
 "cells": [
  {
   "cell_type": "code",
   "execution_count": 0,
   "metadata": {
    "application/vnd.databricks.v1+cell": {
     "cellMetadata": {
      "byteLimit": 2048000,
      "rowLimit": 10000
     },
     "inputWidgets": {},
     "nuid": "7455076a-f03a-449c-8a36-37aaab4e5e85",
     "showTitle": false,
     "tableResultSettingsMap": {},
     "title": ""
    }
   },
   "outputs": [],
   "source": [
    "from pyspark.sql.functions import col, to_date\n",
    "\n",
    "# ---- Config ----\n",
    "storage_account_name = \"retaildatalake\"\n",
    "storage_account_key  = \"<put in your storage key>"   # \uD83D\uDD11 hardcoded key\n",
    "\n",
    "# Spark config for ABFS\n",
    "spark.conf.set(\n",
    "    f\"fs.azure.account.key.{storage_account_name}.dfs.core.windows.net\",\n",
    "    storage_account_key\n",
    ")\n",
    "\n",
    "# ---- Widgets ----\n",
    "dbutils.widgets.text(\"input_path\", f\"abfss://bronze@{storage_account_name}.dfs.core.windows.net/retail_data_raw\")\n",
    "dbutils.widgets.text(\"output_path\", f\"abfss://silver@{storage_account_name}.dfs.core.windows.net/retail_data_clean\")\n",
    "\n",
    "input_path = dbutils.widgets.get(\"input_path\")\n",
    "output_path = dbutils.widgets.get(\"output_path\")\n",
    "\n",
    "# ---- Read Bronze parquet ----\n",
    "df_silver = spark.read.parquet(input_path)\n",
    "\n",
    "# ---- Clean data ----\n",
    "df_silver = df_silver.dropna().dropDuplicates()\n",
    "df_silver = df_silver.withColumn(\"InvoiceDate\", to_date(col(\"InvoiceDate\"), \"MM/dd/yyyy\"))\n",
    "\n",
    "display(df_silver.limit(10))\n",
    "\n",
    "# ---- Write Silver parquet ----\n",
    "df_silver.write.mode(\"overwrite\").parquet(output_path)\n"
   ]
  }
 ],
 "metadata": {
  "application/vnd.databricks.v1+notebook": {
   "computePreferences": null,
   "dashboards": [],
   "environmentMetadata": {
    "base_environment": "",
    "environment_version": "3"
   },
   "inputWidgetPreferences": null,
   "language": "python",
   "notebookMetadata": {
    "pythonIndentUnit": 4
   },
   "notebookName": "silver",
   "widgets": {
    "input_path": {
     "currentValue": "/mnt/bronze/retail_data_raw",
     "nuid": "8caac364-d5e7-4c3f-b5ae-19e481c267ac",
     "typedWidgetInfo": {
      "autoCreated": false,
      "defaultValue": "abfss://bronze@retaildatalake.dfs.core.windows.net/retail_data_raw",
      "label": null,
      "name": "input_path",
      "options": {
       "widgetDisplayType": "Text",
       "validationRegex": null
      },
      "parameterDataType": "String"
     },
     "widgetInfo": {
      "widgetType": "text",
      "defaultValue": "abfss://bronze@retaildatalake.dfs.core.windows.net/retail_data_raw",
      "label": null,
      "name": "input_path",
      "options": {
       "widgetType": "text",
       "autoCreated": null,
       "validationRegex": null
      }
     }
    },
    "output_path": {
     "currentValue": "/mnt/silver/retail_data_clean",
     "nuid": "1d3053f0-a374-4a61-82f5-3da7e5ba05fd",
     "typedWidgetInfo": {
      "autoCreated": false,
      "defaultValue": "abfss://silver@retaildatalake.dfs.core.windows.net/retail_data_clean",
      "label": null,
      "name": "output_path",
      "options": {
       "widgetDisplayType": "Text",
       "validationRegex": null
      },
      "parameterDataType": "String"
     },
     "widgetInfo": {
      "widgetType": "text",
      "defaultValue": "abfss://silver@retaildatalake.dfs.core.windows.net/retail_data_clean",
      "label": null,
      "name": "output_path",
      "options": {
       "widgetType": "text",
       "autoCreated": null,
       "validationRegex": null
      }
     }
    }
   }
  },
  "language_info": {
   "name": "python"
  }
 },
 "nbformat": 4,
 "nbformat_minor": 0
}